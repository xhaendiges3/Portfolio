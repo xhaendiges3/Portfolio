{
 "cells": [
  {
   "cell_type": "markdown",
   "metadata": {},
   "source": [
    "\n",
    "\n",
    "|   Variable   | Description                                                                                                                                                                                |\n",
    "|:------------:|--------------------------------------------------------------------------------------------------------------------------------------------------------------------------------------------|\n",
    "| Store        | the store number                                                                                                                                                                           |\n",
    "| Date         | the week                                                                                                                                                                                   |\n",
    "| Temperature  | the average temperature in the region                                                                                                                                                      |\n",
    "| Fuel_Price   | the cost of fuel in the region                                                                                                                                                             |\n",
    "| MarkDown1-5  | anonymized data related to promotional markdowns. MarkDown data is only available after Nov 2011 and is not available for all stores all the time. Any missing value is marked with an NA. |\n",
    "| CPI          | the consumer price index                                                                                                                                                                   |\n",
    "| Unemployment | the unemployment rate                                                                                                                                                                      |\n",
    "| IsHoliday    | whether the week is a special holiday week                                                                                                                                                 |\n",
    "\n",
    "***Sales:* Contains historical sales data, which covers to 2010-02-05 to 2012-11-01. Within this dataset, you will find the following fields:**\n",
    "\n",
    "|   Variable   | Description                                       |\n",
    "|:------------:|---------------------------------------------------|\n",
    "| Store        | the store number                                  |\n",
    "| Dept         | the department number                             |\n",
    "| Date         | the week                                          |\n",
    "| Weekly_Sales | sales for the given department in the given store |\n",
    "| IsHoliday    | whether the week is a special holiday week        |"
   ]
  },
  {
   "cell_type": "markdown",
   "metadata": {},
   "source": [
    "---\n",
    "### Data Partitioning in Python\n"
   ]
  },
  {
   "cell_type": "markdown",
   "metadata": {},
   "source": [
    "* Using the \"Sales\" dataset, I am creating an 80%-20% train-test partition, investigate whether the Weekly_Sales variable has similar distribution across the partitions. Use at least two visualizations. You can use the IsHoliday variable as a control variable. "
   ]
  },
  {
   "cell_type": "code",
   "execution_count": 8,
   "metadata": {},
   "outputs": [],
   "source": [
    "import numpy as np\n",
    "import pandas as pd\n",
    "import matplotlib.pyplot as plt\n",
    "import seaborn as sns\n",
    "df= pd.read_csv('Retail_Data_Sales.csv')\n",
    "\n",
    "df['Partition'] = np.random.choice(['train', 'test'], len(df), p=[0.8,0.2])\n",
    "sales_train = df[df['Partition'] == 'train']\n",
    "sales_test = df[df['Partition'] == 'test']\n",
    "\n",
    "# Focus on weekly_sales, train, and test\n",
    "# Kdeplot - intercept\n",
    "# catplot - interpret x = categorical, y = weekly_sales"
   ]
  },
  {
   "cell_type": "code",
   "execution_count": 9,
   "metadata": {},
   "outputs": [
    {
     "data": {
      "text/plain": [
       "(337589, 6)"
      ]
     },
     "execution_count": 9,
     "metadata": {},
     "output_type": "execute_result"
    }
   ],
   "source": [
    "sales_train.shape"
   ]
  },
  {
   "cell_type": "code",
   "execution_count": 10,
   "metadata": {},
   "outputs": [
    {
     "data": {
      "text/plain": [
       "(83981, 6)"
      ]
     },
     "execution_count": 10,
     "metadata": {},
     "output_type": "execute_result"
    }
   ],
   "source": [
    "sales_test.shape"
   ]
  },
  {
   "cell_type": "code",
   "execution_count": 12,
   "metadata": {},
   "outputs": [
    {
     "data": {
      "image/png": "[encoded data removed]",
      "text/plain": [
       "<Figure size 421.25x360 with 1 Axes>"
      ]
     },
     "metadata": {
      "needs_background": "light"
     },
     "output_type": "display_data"
    }
   ],
   "source": [
    "sns.catplot(data=df, x='Partition', y='Weekly_Sales', hue='IsHoliday', kind='point')\n",
    "plt.show()"
   ]
  },
  {
   "cell_type": "code",
   "execution_count": 13,
   "metadata": {},
   "outputs": [
    {
     "data": {
      "image/png": "[encoded data removed]",
      "text/plain": [
       "<Figure size 432x288 with 1 Axes>"
      ]
     },
     "metadata": {
      "needs_background": "light"
     },
     "output_type": "display_data"
    }
   ],
   "source": [
    "fig, ax = plt.subplots()\n",
    "sns.kdeplot(data=df, ax=ax, x='Weekly_Sales', shade=True, label='Original')\n",
    "sns.kdeplot(data=sales_train, ax=ax, x='Weekly_Sales', shade=True, label='Train')\n",
    "sns.kdeplot(data=sales_test, ax=ax, x='Weekly_Sales', shade=True, label='Test')\n",
    "ax.legend()\n",
    "plt.show()"
   ]
  },
  {
   "cell_type": "markdown",
   "metadata": {},
   "source": [
    "The distributions of the Weekly_Sales across train and test seem to be very similar. This holds even when the partitions are investigated based on the IsHoliday variable. "
   ]
  },
  {
   "cell_type": "markdown",
   "metadata": {},
   "source": [
    "---\n",
    "### Undersampling and Oversampling in Python\n"
   ]
  },
  {
   "cell_type": "markdown",
   "metadata": {},
   "source": [
    "**We always do not oversample or undersample in regards to the target variable. In some cases, we want certain groups of data to have equal representation in the training data. Having this in mind, use the \"Sales\" data and create an 80%-20% train-test partition where the train partition is oversampled regarding the IsHoliday variable. Perform the same task using undersampling as well. In the end, show that the training dataset is balanced in regards to IsHoliday.**"
   ]
  },
  {
   "cell_type": "code",
   "execution_count": 14,
   "metadata": {},
   "outputs": [
    {
     "data": {
      "text/plain": [
       "IsHoliday\n",
       "False    391909\n",
       "True      29661\n",
       "dtype: int64"
      ]
     },
     "execution_count": 14,
     "metadata": {},
     "output_type": "execute_result"
    }
   ],
   "source": [
    "df = pd.read_csv('Retail_Data_Sales.csv')\n",
    "df.groupby(by=['IsHoliday']).size()"
   ]
  },
  {
   "cell_type": "code",
   "execution_count": 15,
   "metadata": {},
   "outputs": [
    {
     "data": {
      "text/plain": [
       "IsHoliday\n",
       "False    313775\n",
       "True     313775\n",
       "dtype: int64"
      ]
     },
     "execution_count": 15,
     "metadata": {},
     "output_type": "execute_result"
    }
   ],
   "source": [
    "df['Partition'] = np.random.choice(['train', 'test'], len(df), p=[0.8,0.2])\n",
    "sales_train = df[df['Partition'] == 'train']\n",
    "sales_test = df[df['Partition'] == 'test']\n",
    "\n",
    "sales_train_true = sales_train[sales_train['IsHoliday'] == True]\n",
    "sales_train_false = sales_train[sales_train['IsHoliday'] == False]\n",
    "\n",
    "over = sales_train_true.sample(n=sales_train_false.shape[0], replace=True)\n",
    "\n",
    "sales_train_bal = pd.concat([sales_train_false, over])\n",
    "sales_train_bal.groupby(by=['IsHoliday']).size()"
   ]
  },
  {
   "cell_type": "code",
   "execution_count": 16,
   "metadata": {},
   "outputs": [
    {
     "name": "stdout",
     "output_type": "stream",
     "text": [
      "(23777, 6)\n",
      "(313509, 6)\n"
     ]
    }
   ],
   "source": [
    "# Undersampling\n",
    "df['Partition'] = np.random.choice(['train', 'test'], len(df), p=[0.8,0.2])\n",
    "sales_train = df[df['Partition'] == 'train']\n",
    "sales_test = df[df['Partition'] == 'test']\n",
    "\n",
    "sales_train_1 = sales_train[sales_train['IsHoliday'] == 1]\n",
    "sales_train_0 = sales_train[sales_train['IsHoliday'] == 0]\n",
    "print(sales_train_1.shape)\n",
    "print(sales_train_0.shape)"
   ]
  },
  {
   "cell_type": "code",
   "execution_count": 17,
   "metadata": {},
   "outputs": [],
   "source": [
    "under = sales_train_0.sample(n=sales_train_1.shape[0])"
   ]
  },
  {
   "cell_type": "code",
   "execution_count": 18,
   "metadata": {},
   "outputs": [
    {
     "data": {
      "text/plain": [
       "IsHoliday\n",
       "False    23777\n",
       "True     23777\n",
       "dtype: int64"
      ]
     },
     "execution_count": 18,
     "metadata": {},
     "output_type": "execute_result"
    }
   ],
   "source": [
    "sales_train_bal = pd.concat([under, sales_train_1])\n",
    "sales_train_bal.groupby(by=['IsHoliday']).size()"
   ]
  }
 ],
 "metadata": {
  "kernelspec": {
   "display_name": "Python 3",
   "language": "python",
   "name": "python3"
  },
  "language_info": {
   "codemirror_mode": {
    "name": "ipython",
    "version": 3
   },
   "file_extension": ".py",
   "mimetype": "text/x-python",
   "name": "python",
   "nbconvert_exporter": "python",
   "pygments_lexer": "ipython3",
   "version": "3.8.8"
  }
 },
 "nbformat": 4,
 "nbformat_minor": 4
}
